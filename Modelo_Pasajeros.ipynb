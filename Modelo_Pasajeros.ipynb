{
  "cells": [
    {
      "cell_type": "markdown",
      "metadata": {
        "id": "iLor1fwW6syM"
      },
      "source": [
        "# Modelo de prediccion de volumen de pasajeros"
      ]
    },
    {
      "cell_type": "markdown",
      "source": [
        "### Instalar librerias necesarias"
      ],
      "metadata": {
        "id": "KZSh8URtJptI"
      }
    },
    {
      "cell_type": "code",
      "execution_count": 2,
      "metadata": {
        "colab": {
          "base_uri": "https://localhost:8080/"
        },
        "id": "nRK_j92Aqd3B",
        "outputId": "37de2242-d311-45c5-975c-5a39e9f594cf"
      },
      "outputs": [
        {
          "output_type": "stream",
          "name": "stdout",
          "text": [
            "Requirement already satisfied: xgboost in /usr/local/lib/python3.10/dist-packages (2.0.3)\n",
            "Requirement already satisfied: numpy in /usr/local/lib/python3.10/dist-packages (from xgboost) (1.25.2)\n",
            "Requirement already satisfied: scipy in /usr/local/lib/python3.10/dist-packages (from xgboost) (1.11.4)\n"
          ]
        }
      ],
      "source": [
        "# Pip Installs\n",
        "!pip install xgboost"
      ]
    },
    {
      "cell_type": "markdown",
      "source": [
        "### Importar librerias"
      ],
      "metadata": {
        "id": "5KRuAf3nJvK8"
      }
    },
    {
      "cell_type": "code",
      "execution_count": 3,
      "metadata": {
        "colab": {
          "base_uri": "https://localhost:8080/"
        },
        "id": "hEFGvOF9oHhG",
        "outputId": "22f06b6e-7ec0-43b1-c500-3eef328cf3f9"
      },
      "outputs": [
        {
          "output_type": "stream",
          "name": "stdout",
          "text": [
            "Mounted at /content/drive\n"
          ]
        }
      ],
      "source": [
        "# Librerías\n",
        "from google.colab import drive\n",
        "drive.mount('/content/drive')"
      ]
    },
    {
      "cell_type": "code",
      "execution_count": 4,
      "metadata": {
        "id": "GDP-a2n48w4r"
      },
      "outputs": [],
      "source": [
        "import pandas as pd\n",
        "import gdown\n",
        "import matplotlib.pyplot as plt\n",
        "import seaborn as sns\n",
        "import numpy as np\n",
        "from sklearn.model_selection import train_test_split\n",
        "import xgboost as xgb\n",
        "from sklearn.metrics import mean_squared_error, r2_score\n"
      ]
    },
    {
      "cell_type": "markdown",
      "metadata": {
        "id": "1ipY3Zausc-B"
      },
      "source": [
        "### Importar base de datos\n"
      ]
    },
    {
      "cell_type": "code",
      "execution_count": 5,
      "metadata": {
        "colab": {
          "base_uri": "https://localhost:8080/"
        },
        "id": "7Zj7tv95sj_i",
        "outputId": "2a56ef5c-d964-4096-d8f4-ea3bb5da0ac7"
      },
      "outputs": [
        {
          "output_type": "stream",
          "name": "stderr",
          "text": [
            "Downloading...\n",
            "From: https://drive.google.com/uc?id=1QEJddcuE3mJRXSPllMxomuzz4lQJy99n\n",
            "To: /content/archivo.csv\n",
            "100%|██████████| 30.2M/30.2M [00:00<00:00, 86.8MB/s]\n"
          ]
        },
        {
          "output_type": "stream",
          "name": "stdout",
          "text": [
            "                          Flight_ID Aeronave DepartureStation ArrivalStation  \\\n",
            "0  ab954014077430bd842cfa305a55c0f8   XA-VBY               AT             AZ   \n",
            "1  efd86c996035dacdca7a0ccb2560dda1   XA-VIX               BM             AV   \n",
            "2  6cfa1bbaa44f08fc7d3061f034a6a5ce   XA-VBV               AW             AS   \n",
            "3  dd0fad3248951d2f71d63e6279aeaa4b   XA-VBW               AW             AS   \n",
            "4  d0987ee648eea254063bfe2b39571b67   XA-VAP               BA             AB   \n",
            "\n",
            "      Destination_Type        Origin_Type                  STD  \\\n",
            "0    Ciudad Fronteriza   Ciudad Principal  2023-10-19 11:40:00   \n",
            "1  MX Amigos y Familia  Ciudad Fronteriza  2023-07-03 00:55:00   \n",
            "2  MX Amigos y Familia   Ciudad Principal  2024-02-16 17:10:00   \n",
            "3  MX Amigos y Familia   Ciudad Principal  2023-06-26 15:15:00   \n",
            "4                Playa   Ciudad Principal  2023-02-10 08:40:00   \n",
            "\n",
            "                   STA  Capacity  Passengers  Bookings  \n",
            "0  2023-10-19 14:25:00       240       229.0     157.0  \n",
            "1  2023-07-03 04:55:00       186       197.0     109.0  \n",
            "2  2024-02-16 17:55:00       220         NaN       NaN  \n",
            "3  2023-06-26 15:55:00       220       200.0     142.0  \n",
            "4  2023-02-10 09:50:00       186       162.0      90.0  \n"
          ]
        }
      ],
      "source": [
        "#https://drive.google.com/file/d/1QEJddcuE3mJRXSPllMxomuzz4lQJy99n/view\n",
        "\n",
        "# ID del archivo Flights\n",
        "Flights_id = '1QEJddcuE3mJRXSPllMxomuzz4lQJy99n'\n",
        "\n",
        "# Enlace de descarga del archivo Flights\n",
        "Flights_url = f'https://drive.google.com/uc?id={Flights_id}'\n",
        "\n",
        "# Descarga el archivo CSV a la ubicación local Flights\n",
        "output_Flights = '/content/archivo.csv'\n",
        "gdown.download(Flights_url, output_Flights, quiet=False)\n",
        "\n",
        "# Lee el archivo CSV con pandas\n",
        "Flights = pd.read_csv(output_Flights)\n",
        "\n",
        "# Muestra las primeras filas del DataFrame\n",
        "print(Flights.head())"
      ]
    },
    {
      "cell_type": "markdown",
      "metadata": {
        "id": "VlsDQIE1vSiq"
      },
      "source": [
        "# Explorar Flights"
      ]
    },
    {
      "cell_type": "code",
      "execution_count": 6,
      "metadata": {
        "colab": {
          "base_uri": "https://localhost:8080/",
          "height": 293
        },
        "id": "YKcb10rTODnL",
        "outputId": "a420cb97-e121-4c60-b3e0-5cd651c1fc8f"
      },
      "outputs": [
        {
          "output_type": "execute_result",
          "data": {
            "text/plain": [
              "                          Flight_ID Aeronave DepartureStation ArrivalStation  \\\n",
              "0  ab954014077430bd842cfa305a55c0f8   XA-VBY               AT             AZ   \n",
              "1  efd86c996035dacdca7a0ccb2560dda1   XA-VIX               BM             AV   \n",
              "2  6cfa1bbaa44f08fc7d3061f034a6a5ce   XA-VBV               AW             AS   \n",
              "3  dd0fad3248951d2f71d63e6279aeaa4b   XA-VBW               AW             AS   \n",
              "4  d0987ee648eea254063bfe2b39571b67   XA-VAP               BA             AB   \n",
              "\n",
              "      Destination_Type        Origin_Type                  STD  \\\n",
              "0    Ciudad Fronteriza   Ciudad Principal  2023-10-19 11:40:00   \n",
              "1  MX Amigos y Familia  Ciudad Fronteriza  2023-07-03 00:55:00   \n",
              "2  MX Amigos y Familia   Ciudad Principal  2024-02-16 17:10:00   \n",
              "3  MX Amigos y Familia   Ciudad Principal  2023-06-26 15:15:00   \n",
              "4                Playa   Ciudad Principal  2023-02-10 08:40:00   \n",
              "\n",
              "                   STA  Capacity  Passengers  Bookings  \n",
              "0  2023-10-19 14:25:00       240       229.0     157.0  \n",
              "1  2023-07-03 04:55:00       186       197.0     109.0  \n",
              "2  2024-02-16 17:55:00       220         NaN       NaN  \n",
              "3  2023-06-26 15:55:00       220       200.0     142.0  \n",
              "4  2023-02-10 09:50:00       186       162.0      90.0  "
            ],
            "text/html": [
              "\n",
              "  <div id=\"df-6dec2087-4e38-4c48-bd57-d0a235923826\" class=\"colab-df-container\">\n",
              "    <div>\n",
              "<style scoped>\n",
              "    .dataframe tbody tr th:only-of-type {\n",
              "        vertical-align: middle;\n",
              "    }\n",
              "\n",
              "    .dataframe tbody tr th {\n",
              "        vertical-align: top;\n",
              "    }\n",
              "\n",
              "    .dataframe thead th {\n",
              "        text-align: right;\n",
              "    }\n",
              "</style>\n",
              "<table border=\"1\" class=\"dataframe\">\n",
              "  <thead>\n",
              "    <tr style=\"text-align: right;\">\n",
              "      <th></th>\n",
              "      <th>Flight_ID</th>\n",
              "      <th>Aeronave</th>\n",
              "      <th>DepartureStation</th>\n",
              "      <th>ArrivalStation</th>\n",
              "      <th>Destination_Type</th>\n",
              "      <th>Origin_Type</th>\n",
              "      <th>STD</th>\n",
              "      <th>STA</th>\n",
              "      <th>Capacity</th>\n",
              "      <th>Passengers</th>\n",
              "      <th>Bookings</th>\n",
              "    </tr>\n",
              "  </thead>\n",
              "  <tbody>\n",
              "    <tr>\n",
              "      <th>0</th>\n",
              "      <td>ab954014077430bd842cfa305a55c0f8</td>\n",
              "      <td>XA-VBY</td>\n",
              "      <td>AT</td>\n",
              "      <td>AZ</td>\n",
              "      <td>Ciudad Fronteriza</td>\n",
              "      <td>Ciudad Principal</td>\n",
              "      <td>2023-10-19 11:40:00</td>\n",
              "      <td>2023-10-19 14:25:00</td>\n",
              "      <td>240</td>\n",
              "      <td>229.0</td>\n",
              "      <td>157.0</td>\n",
              "    </tr>\n",
              "    <tr>\n",
              "      <th>1</th>\n",
              "      <td>efd86c996035dacdca7a0ccb2560dda1</td>\n",
              "      <td>XA-VIX</td>\n",
              "      <td>BM</td>\n",
              "      <td>AV</td>\n",
              "      <td>MX Amigos y Familia</td>\n",
              "      <td>Ciudad Fronteriza</td>\n",
              "      <td>2023-07-03 00:55:00</td>\n",
              "      <td>2023-07-03 04:55:00</td>\n",
              "      <td>186</td>\n",
              "      <td>197.0</td>\n",
              "      <td>109.0</td>\n",
              "    </tr>\n",
              "    <tr>\n",
              "      <th>2</th>\n",
              "      <td>6cfa1bbaa44f08fc7d3061f034a6a5ce</td>\n",
              "      <td>XA-VBV</td>\n",
              "      <td>AW</td>\n",
              "      <td>AS</td>\n",
              "      <td>MX Amigos y Familia</td>\n",
              "      <td>Ciudad Principal</td>\n",
              "      <td>2024-02-16 17:10:00</td>\n",
              "      <td>2024-02-16 17:55:00</td>\n",
              "      <td>220</td>\n",
              "      <td>NaN</td>\n",
              "      <td>NaN</td>\n",
              "    </tr>\n",
              "    <tr>\n",
              "      <th>3</th>\n",
              "      <td>dd0fad3248951d2f71d63e6279aeaa4b</td>\n",
              "      <td>XA-VBW</td>\n",
              "      <td>AW</td>\n",
              "      <td>AS</td>\n",
              "      <td>MX Amigos y Familia</td>\n",
              "      <td>Ciudad Principal</td>\n",
              "      <td>2023-06-26 15:15:00</td>\n",
              "      <td>2023-06-26 15:55:00</td>\n",
              "      <td>220</td>\n",
              "      <td>200.0</td>\n",
              "      <td>142.0</td>\n",
              "    </tr>\n",
              "    <tr>\n",
              "      <th>4</th>\n",
              "      <td>d0987ee648eea254063bfe2b39571b67</td>\n",
              "      <td>XA-VAP</td>\n",
              "      <td>BA</td>\n",
              "      <td>AB</td>\n",
              "      <td>Playa</td>\n",
              "      <td>Ciudad Principal</td>\n",
              "      <td>2023-02-10 08:40:00</td>\n",
              "      <td>2023-02-10 09:50:00</td>\n",
              "      <td>186</td>\n",
              "      <td>162.0</td>\n",
              "      <td>90.0</td>\n",
              "    </tr>\n",
              "  </tbody>\n",
              "</table>\n",
              "</div>\n",
              "    <div class=\"colab-df-buttons\">\n",
              "\n",
              "  <div class=\"colab-df-container\">\n",
              "    <button class=\"colab-df-convert\" onclick=\"convertToInteractive('df-6dec2087-4e38-4c48-bd57-d0a235923826')\"\n",
              "            title=\"Convert this dataframe to an interactive table.\"\n",
              "            style=\"display:none;\">\n",
              "\n",
              "  <svg xmlns=\"http://www.w3.org/2000/svg\" height=\"24px\" viewBox=\"0 -960 960 960\">\n",
              "    <path d=\"M120-120v-720h720v720H120Zm60-500h600v-160H180v160Zm220 220h160v-160H400v160Zm0 220h160v-160H400v160ZM180-400h160v-160H180v160Zm440 0h160v-160H620v160ZM180-180h160v-160H180v160Zm440 0h160v-160H620v160Z\"/>\n",
              "  </svg>\n",
              "    </button>\n",
              "\n",
              "  <style>\n",
              "    .colab-df-container {\n",
              "      display:flex;\n",
              "      gap: 12px;\n",
              "    }\n",
              "\n",
              "    .colab-df-convert {\n",
              "      background-color: #E8F0FE;\n",
              "      border: none;\n",
              "      border-radius: 50%;\n",
              "      cursor: pointer;\n",
              "      display: none;\n",
              "      fill: #1967D2;\n",
              "      height: 32px;\n",
              "      padding: 0 0 0 0;\n",
              "      width: 32px;\n",
              "    }\n",
              "\n",
              "    .colab-df-convert:hover {\n",
              "      background-color: #E2EBFA;\n",
              "      box-shadow: 0px 1px 2px rgba(60, 64, 67, 0.3), 0px 1px 3px 1px rgba(60, 64, 67, 0.15);\n",
              "      fill: #174EA6;\n",
              "    }\n",
              "\n",
              "    .colab-df-buttons div {\n",
              "      margin-bottom: 4px;\n",
              "    }\n",
              "\n",
              "    [theme=dark] .colab-df-convert {\n",
              "      background-color: #3B4455;\n",
              "      fill: #D2E3FC;\n",
              "    }\n",
              "\n",
              "    [theme=dark] .colab-df-convert:hover {\n",
              "      background-color: #434B5C;\n",
              "      box-shadow: 0px 1px 3px 1px rgba(0, 0, 0, 0.15);\n",
              "      filter: drop-shadow(0px 1px 2px rgba(0, 0, 0, 0.3));\n",
              "      fill: #FFFFFF;\n",
              "    }\n",
              "  </style>\n",
              "\n",
              "    <script>\n",
              "      const buttonEl =\n",
              "        document.querySelector('#df-6dec2087-4e38-4c48-bd57-d0a235923826 button.colab-df-convert');\n",
              "      buttonEl.style.display =\n",
              "        google.colab.kernel.accessAllowed ? 'block' : 'none';\n",
              "\n",
              "      async function convertToInteractive(key) {\n",
              "        const element = document.querySelector('#df-6dec2087-4e38-4c48-bd57-d0a235923826');\n",
              "        const dataTable =\n",
              "          await google.colab.kernel.invokeFunction('convertToInteractive',\n",
              "                                                    [key], {});\n",
              "        if (!dataTable) return;\n",
              "\n",
              "        const docLinkHtml = 'Like what you see? Visit the ' +\n",
              "          '<a target=\"_blank\" href=https://colab.research.google.com/notebooks/data_table.ipynb>data table notebook</a>'\n",
              "          + ' to learn more about interactive tables.';\n",
              "        element.innerHTML = '';\n",
              "        dataTable['output_type'] = 'display_data';\n",
              "        await google.colab.output.renderOutput(dataTable, element);\n",
              "        const docLink = document.createElement('div');\n",
              "        docLink.innerHTML = docLinkHtml;\n",
              "        element.appendChild(docLink);\n",
              "      }\n",
              "    </script>\n",
              "  </div>\n",
              "\n",
              "\n",
              "<div id=\"df-ebacaca4-0eb8-4654-86c9-e7ea61655a89\">\n",
              "  <button class=\"colab-df-quickchart\" onclick=\"quickchart('df-ebacaca4-0eb8-4654-86c9-e7ea61655a89')\"\n",
              "            title=\"Suggest charts\"\n",
              "            style=\"display:none;\">\n",
              "\n",
              "<svg xmlns=\"http://www.w3.org/2000/svg\" height=\"24px\"viewBox=\"0 0 24 24\"\n",
              "     width=\"24px\">\n",
              "    <g>\n",
              "        <path d=\"M19 3H5c-1.1 0-2 .9-2 2v14c0 1.1.9 2 2 2h14c1.1 0 2-.9 2-2V5c0-1.1-.9-2-2-2zM9 17H7v-7h2v7zm4 0h-2V7h2v10zm4 0h-2v-4h2v4z\"/>\n",
              "    </g>\n",
              "</svg>\n",
              "  </button>\n",
              "\n",
              "<style>\n",
              "  .colab-df-quickchart {\n",
              "      --bg-color: #E8F0FE;\n",
              "      --fill-color: #1967D2;\n",
              "      --hover-bg-color: #E2EBFA;\n",
              "      --hover-fill-color: #174EA6;\n",
              "      --disabled-fill-color: #AAA;\n",
              "      --disabled-bg-color: #DDD;\n",
              "  }\n",
              "\n",
              "  [theme=dark] .colab-df-quickchart {\n",
              "      --bg-color: #3B4455;\n",
              "      --fill-color: #D2E3FC;\n",
              "      --hover-bg-color: #434B5C;\n",
              "      --hover-fill-color: #FFFFFF;\n",
              "      --disabled-bg-color: #3B4455;\n",
              "      --disabled-fill-color: #666;\n",
              "  }\n",
              "\n",
              "  .colab-df-quickchart {\n",
              "    background-color: var(--bg-color);\n",
              "    border: none;\n",
              "    border-radius: 50%;\n",
              "    cursor: pointer;\n",
              "    display: none;\n",
              "    fill: var(--fill-color);\n",
              "    height: 32px;\n",
              "    padding: 0;\n",
              "    width: 32px;\n",
              "  }\n",
              "\n",
              "  .colab-df-quickchart:hover {\n",
              "    background-color: var(--hover-bg-color);\n",
              "    box-shadow: 0 1px 2px rgba(60, 64, 67, 0.3), 0 1px 3px 1px rgba(60, 64, 67, 0.15);\n",
              "    fill: var(--button-hover-fill-color);\n",
              "  }\n",
              "\n",
              "  .colab-df-quickchart-complete:disabled,\n",
              "  .colab-df-quickchart-complete:disabled:hover {\n",
              "    background-color: var(--disabled-bg-color);\n",
              "    fill: var(--disabled-fill-color);\n",
              "    box-shadow: none;\n",
              "  }\n",
              "\n",
              "  .colab-df-spinner {\n",
              "    border: 2px solid var(--fill-color);\n",
              "    border-color: transparent;\n",
              "    border-bottom-color: var(--fill-color);\n",
              "    animation:\n",
              "      spin 1s steps(1) infinite;\n",
              "  }\n",
              "\n",
              "  @keyframes spin {\n",
              "    0% {\n",
              "      border-color: transparent;\n",
              "      border-bottom-color: var(--fill-color);\n",
              "      border-left-color: var(--fill-color);\n",
              "    }\n",
              "    20% {\n",
              "      border-color: transparent;\n",
              "      border-left-color: var(--fill-color);\n",
              "      border-top-color: var(--fill-color);\n",
              "    }\n",
              "    30% {\n",
              "      border-color: transparent;\n",
              "      border-left-color: var(--fill-color);\n",
              "      border-top-color: var(--fill-color);\n",
              "      border-right-color: var(--fill-color);\n",
              "    }\n",
              "    40% {\n",
              "      border-color: transparent;\n",
              "      border-right-color: var(--fill-color);\n",
              "      border-top-color: var(--fill-color);\n",
              "    }\n",
              "    60% {\n",
              "      border-color: transparent;\n",
              "      border-right-color: var(--fill-color);\n",
              "    }\n",
              "    80% {\n",
              "      border-color: transparent;\n",
              "      border-right-color: var(--fill-color);\n",
              "      border-bottom-color: var(--fill-color);\n",
              "    }\n",
              "    90% {\n",
              "      border-color: transparent;\n",
              "      border-bottom-color: var(--fill-color);\n",
              "    }\n",
              "  }\n",
              "</style>\n",
              "\n",
              "  <script>\n",
              "    async function quickchart(key) {\n",
              "      const quickchartButtonEl =\n",
              "        document.querySelector('#' + key + ' button');\n",
              "      quickchartButtonEl.disabled = true;  // To prevent multiple clicks.\n",
              "      quickchartButtonEl.classList.add('colab-df-spinner');\n",
              "      try {\n",
              "        const charts = await google.colab.kernel.invokeFunction(\n",
              "            'suggestCharts', [key], {});\n",
              "      } catch (error) {\n",
              "        console.error('Error during call to suggestCharts:', error);\n",
              "      }\n",
              "      quickchartButtonEl.classList.remove('colab-df-spinner');\n",
              "      quickchartButtonEl.classList.add('colab-df-quickchart-complete');\n",
              "    }\n",
              "    (() => {\n",
              "      let quickchartButtonEl =\n",
              "        document.querySelector('#df-ebacaca4-0eb8-4654-86c9-e7ea61655a89 button');\n",
              "      quickchartButtonEl.style.display =\n",
              "        google.colab.kernel.accessAllowed ? 'block' : 'none';\n",
              "    })();\n",
              "  </script>\n",
              "</div>\n",
              "\n",
              "    </div>\n",
              "  </div>\n"
            ],
            "application/vnd.google.colaboratory.intrinsic+json": {
              "type": "dataframe",
              "variable_name": "Flights"
            }
          },
          "metadata": {},
          "execution_count": 6
        }
      ],
      "source": [
        "#Vistazo a los datos\n",
        "Flights.head()"
      ]
    },
    {
      "cell_type": "code",
      "execution_count": 7,
      "metadata": {
        "colab": {
          "base_uri": "https://localhost:8080/"
        },
        "id": "DkFiRdJmvT4s",
        "outputId": "59bf1c10-f645-4cdb-e303-49446f00c2fb"
      },
      "outputs": [
        {
          "output_type": "stream",
          "name": "stdout",
          "text": [
            "<class 'pandas.core.frame.DataFrame'>\n",
            "RangeIndex: 245753 entries, 0 to 245752\n",
            "Data columns (total 11 columns):\n",
            " #   Column            Non-Null Count   Dtype  \n",
            "---  ------            --------------   -----  \n",
            " 0   Flight_ID         245753 non-null  object \n",
            " 1   Aeronave          165363 non-null  object \n",
            " 2   DepartureStation  245752 non-null  object \n",
            " 3   ArrivalStation    245752 non-null  object \n",
            " 4   Destination_Type  245752 non-null  object \n",
            " 5   Origin_Type       245752 non-null  object \n",
            " 6   STD               245753 non-null  object \n",
            " 7   STA               245753 non-null  object \n",
            " 8   Capacity          245753 non-null  int64  \n",
            " 9   Passengers        122228 non-null  float64\n",
            " 10  Bookings          122228 non-null  float64\n",
            "dtypes: float64(2), int64(1), object(8)\n",
            "memory usage: 20.6+ MB\n",
            "None\n",
            "            Capacity     Passengers       Bookings\n",
            "count  245753.000000  122228.000000  122228.000000\n",
            "mean      204.426314     183.686782     113.830857\n",
            "std        25.649132      37.659902      30.317444\n",
            "min       178.000000       1.000000       1.000000\n",
            "25%       186.000000     162.000000      93.000000\n",
            "50%       186.000000     185.000000     112.000000\n",
            "75%       240.000000     211.000000     134.000000\n",
            "max       240.000000     271.000000     219.000000\n"
          ]
        }
      ],
      "source": [
        "# Verifica los tipos de datos y un resumen estadístico del DataFrame 'Flights'\n",
        "print(Flights.info())\n",
        "print(Flights.describe())"
      ]
    },
    {
      "cell_type": "code",
      "execution_count": 8,
      "metadata": {
        "colab": {
          "base_uri": "https://localhost:8080/"
        },
        "id": "jOl8BNVLvj52",
        "outputId": "0f8da1b6-9331-4aae-e99f-65e12113d805"
      },
      "outputs": [
        {
          "output_type": "stream",
          "name": "stdout",
          "text": [
            "Flight_ID                0\n",
            "Aeronave             80390\n",
            "DepartureStation         1\n",
            "ArrivalStation           1\n",
            "Destination_Type         1\n",
            "Origin_Type              1\n",
            "STD                      0\n",
            "STA                      0\n",
            "Capacity                 0\n",
            "Passengers          123525\n",
            "Bookings            123525\n",
            "dtype: int64\n"
          ]
        }
      ],
      "source": [
        "#Observar valores nulos\n",
        "print(Flights.isnull().sum())"
      ]
    },
    {
      "cell_type": "code",
      "execution_count": 9,
      "metadata": {
        "colab": {
          "base_uri": "https://localhost:8080/",
          "height": 448
        },
        "id": "GBLh3u2E8JyO",
        "outputId": "2f97f1b0-355a-46e8-8c27-f3fc723b5920"
      },
      "outputs": [
        {
          "output_type": "execute_result",
          "data": {
            "text/plain": [
              "<Axes: >"
            ]
          },
          "metadata": {},
          "execution_count": 9
        },
        {
          "output_type": "display_data",
          "data": {
            "text/plain": [
              "<Figure size 640x480 with 1 Axes>"
            ],
            "image/png": "[encoded data removed]"
          },
          "metadata": {}
        }
      ],
      "source": [
        "#Grafica boxplot de valores numericos\n",
        "sns.boxplot(Flights)"
      ]
    },
    {
      "cell_type": "code",
      "execution_count": 10,
      "metadata": {
        "colab": {
          "base_uri": "https://localhost:8080/",
          "height": 765
        },
        "id": "r5TJrW14865c",
        "outputId": "bb80226c-a93c-4dae-e4f4-5a8df9584b67"
      },
      "outputs": [
        {
          "output_type": "display_data",
          "data": {
            "text/plain": [
              "<Figure size 400x400 with 1 Axes>"
            ],
            "image/png": "[encoded data removed]"
          },
          "metadata": {}
        },
        {
          "output_type": "display_data",
          "data": {
            "text/plain": [
              "<Figure size 400x400 with 1 Axes>"
            ],
            "image/png": "[encoded data removed]"
          },
          "metadata": {}
        }
      ],
      "source": [
        "#Histogramas de las columnas Passengers y Bookings\n",
        "for column in Flights.select_dtypes(exclude=['object',\"int\"]).columns:\n",
        "  plt.figure(figsize=(4,4))\n",
        "  plt.hist(Flights[column])\n",
        "  plt.title(f\"Histograma de la columna {column}\")\n"
      ]
    },
    {
      "cell_type": "markdown",
      "source": [
        "###Procesado y limpieza de los datos"
      ],
      "metadata": {
        "id": "--FEzWZLLLrD"
      }
    },
    {
      "cell_type": "code",
      "source": [
        "# Eliminar filas con valores nulos\n",
        "Flights = Flights.dropna()\n",
        "Flights.info()"
      ],
      "metadata": {
        "colab": {
          "base_uri": "https://localhost:8080/"
        },
        "id": "Mid54BilLP6K",
        "outputId": "6eeb8dd9-db89-40c5-edde-4d4aa475da25"
      },
      "execution_count": 11,
      "outputs": [
        {
          "output_type": "stream",
          "name": "stdout",
          "text": [
            "<class 'pandas.core.frame.DataFrame'>\n",
            "Index: 121724 entries, 0 to 245750\n",
            "Data columns (total 11 columns):\n",
            " #   Column            Non-Null Count   Dtype  \n",
            "---  ------            --------------   -----  \n",
            " 0   Flight_ID         121724 non-null  object \n",
            " 1   Aeronave          121724 non-null  object \n",
            " 2   DepartureStation  121724 non-null  object \n",
            " 3   ArrivalStation    121724 non-null  object \n",
            " 4   Destination_Type  121724 non-null  object \n",
            " 5   Origin_Type       121724 non-null  object \n",
            " 6   STD               121724 non-null  object \n",
            " 7   STA               121724 non-null  object \n",
            " 8   Capacity          121724 non-null  int64  \n",
            " 9   Passengers        121724 non-null  float64\n",
            " 10  Bookings          121724 non-null  float64\n",
            "dtypes: float64(2), int64(1), object(8)\n",
            "memory usage: 11.1+ MB\n"
          ]
        }
      ]
    },
    {
      "cell_type": "code",
      "execution_count": 12,
      "metadata": {
        "colab": {
          "base_uri": "https://localhost:8080/",
          "height": 293
        },
        "id": "cDVrzLNH9jf-",
        "outputId": "62cba376-4021-4593-8fa3-62feb27ab5e6"
      },
      "outputs": [
        {
          "output_type": "execute_result",
          "data": {
            "text/plain": [
              "                          Flight_ID Aeronave DepartureStation ArrivalStation  \\\n",
              "0  030f35839975b1721e2427db425ef402   XA-VAJ               BM             AV   \n",
              "1  7b9f51daca0f560676d28aee3d5666f7   XA-VAW               BM             BA   \n",
              "2  d4ac6f26a94efea00002147f15d96a41   XA-VIU               BM             AO   \n",
              "3  555496d4217768d1cc276ffbe83235d5   XA-VXF               AT             AU   \n",
              "4  01cb03565042d43a1deafae09eef0ca1   XA-VAN               BM             AO   \n",
              "\n",
              "      Destination_Type        Origin_Type                  STD  \\\n",
              "0  MX Amigos y Familia  Ciudad Fronteriza  2023-01-02 00:20:00   \n",
              "1     Ciudad Principal  Ciudad Fronteriza  2023-01-02 00:30:00   \n",
              "2     Ciudad Principal  Ciudad Fronteriza  2023-01-02 00:35:00   \n",
              "3           Ecoturismo   Ciudad Principal  2023-01-02 00:55:00   \n",
              "4     Ciudad Principal  Ciudad Fronteriza  2023-01-02 01:15:00   \n",
              "\n",
              "                   STA  Capacity  Passengers  Bookings  \n",
              "0  2023-01-02 05:20:00       186       120.0      68.0  \n",
              "1  2023-01-02 06:00:00       186       170.0      99.0  \n",
              "2  2023-01-02 05:30:00       186       185.0      89.0  \n",
              "3  2023-01-02 02:45:00       240       168.0     118.0  \n",
              "4  2023-01-02 06:10:00       186       165.0      92.0  "
            ],
            "text/html": [
              "\n",
              "  <div id=\"df-83e83b51-a1b0-4f55-b115-6facf452d5de\" class=\"colab-df-container\">\n",
              "    <div>\n",
              "<style scoped>\n",
              "    .dataframe tbody tr th:only-of-type {\n",
              "        vertical-align: middle;\n",
              "    }\n",
              "\n",
              "    .dataframe tbody tr th {\n",
              "        vertical-align: top;\n",
              "    }\n",
              "\n",
              "    .dataframe thead th {\n",
              "        text-align: right;\n",
              "    }\n",
              "</style>\n",
              "<table border=\"1\" class=\"dataframe\">\n",
              "  <thead>\n",
              "    <tr style=\"text-align: right;\">\n",
              "      <th></th>\n",
              "      <th>Flight_ID</th>\n",
              "      <th>Aeronave</th>\n",
              "      <th>DepartureStation</th>\n",
              "      <th>ArrivalStation</th>\n",
              "      <th>Destination_Type</th>\n",
              "      <th>Origin_Type</th>\n",
              "      <th>STD</th>\n",
              "      <th>STA</th>\n",
              "      <th>Capacity</th>\n",
              "      <th>Passengers</th>\n",
              "      <th>Bookings</th>\n",
              "    </tr>\n",
              "  </thead>\n",
              "  <tbody>\n",
              "    <tr>\n",
              "      <th>0</th>\n",
              "      <td>030f35839975b1721e2427db425ef402</td>\n",
              "      <td>XA-VAJ</td>\n",
              "      <td>BM</td>\n",
              "      <td>AV</td>\n",
              "      <td>MX Amigos y Familia</td>\n",
              "      <td>Ciudad Fronteriza</td>\n",
              "      <td>2023-01-02 00:20:00</td>\n",
              "      <td>2023-01-02 05:20:00</td>\n",
              "      <td>186</td>\n",
              "      <td>120.0</td>\n",
              "      <td>68.0</td>\n",
              "    </tr>\n",
              "    <tr>\n",
              "      <th>1</th>\n",
              "      <td>7b9f51daca0f560676d28aee3d5666f7</td>\n",
              "      <td>XA-VAW</td>\n",
              "      <td>BM</td>\n",
              "      <td>BA</td>\n",
              "      <td>Ciudad Principal</td>\n",
              "      <td>Ciudad Fronteriza</td>\n",
              "      <td>2023-01-02 00:30:00</td>\n",
              "      <td>2023-01-02 06:00:00</td>\n",
              "      <td>186</td>\n",
              "      <td>170.0</td>\n",
              "      <td>99.0</td>\n",
              "    </tr>\n",
              "    <tr>\n",
              "      <th>2</th>\n",
              "      <td>d4ac6f26a94efea00002147f15d96a41</td>\n",
              "      <td>XA-VIU</td>\n",
              "      <td>BM</td>\n",
              "      <td>AO</td>\n",
              "      <td>Ciudad Principal</td>\n",
              "      <td>Ciudad Fronteriza</td>\n",
              "      <td>2023-01-02 00:35:00</td>\n",
              "      <td>2023-01-02 05:30:00</td>\n",
              "      <td>186</td>\n",
              "      <td>185.0</td>\n",
              "      <td>89.0</td>\n",
              "    </tr>\n",
              "    <tr>\n",
              "      <th>3</th>\n",
              "      <td>555496d4217768d1cc276ffbe83235d5</td>\n",
              "      <td>XA-VXF</td>\n",
              "      <td>AT</td>\n",
              "      <td>AU</td>\n",
              "      <td>Ecoturismo</td>\n",
              "      <td>Ciudad Principal</td>\n",
              "      <td>2023-01-02 00:55:00</td>\n",
              "      <td>2023-01-02 02:45:00</td>\n",
              "      <td>240</td>\n",
              "      <td>168.0</td>\n",
              "      <td>118.0</td>\n",
              "    </tr>\n",
              "    <tr>\n",
              "      <th>4</th>\n",
              "      <td>01cb03565042d43a1deafae09eef0ca1</td>\n",
              "      <td>XA-VAN</td>\n",
              "      <td>BM</td>\n",
              "      <td>AO</td>\n",
              "      <td>Ciudad Principal</td>\n",
              "      <td>Ciudad Fronteriza</td>\n",
              "      <td>2023-01-02 01:15:00</td>\n",
              "      <td>2023-01-02 06:10:00</td>\n",
              "      <td>186</td>\n",
              "      <td>165.0</td>\n",
              "      <td>92.0</td>\n",
              "    </tr>\n",
              "  </tbody>\n",
              "</table>\n",
              "</div>\n",
              "    <div class=\"colab-df-buttons\">\n",
              "\n",
              "  <div class=\"colab-df-container\">\n",
              "    <button class=\"colab-df-convert\" onclick=\"convertToInteractive('df-83e83b51-a1b0-4f55-b115-6facf452d5de')\"\n",
              "            title=\"Convert this dataframe to an interactive table.\"\n",
              "            style=\"display:none;\">\n",
              "\n",
              "  <svg xmlns=\"http://www.w3.org/2000/svg\" height=\"24px\" viewBox=\"0 -960 960 960\">\n",
              "    <path d=\"M120-120v-720h720v720H120Zm60-500h600v-160H180v160Zm220 220h160v-160H400v160Zm0 220h160v-160H400v160ZM180-400h160v-160H180v160Zm440 0h160v-160H620v160ZM180-180h160v-160H180v160Zm440 0h160v-160H620v160Z\"/>\n",
              "  </svg>\n",
              "    </button>\n",
              "\n",
              "  <style>\n",
              "    .colab-df-container {\n",
              "      display:flex;\n",
              "      gap: 12px;\n",
              "    }\n",
              "\n",
              "    .colab-df-convert {\n",
              "      background-color: #E8F0FE;\n",
              "      border: none;\n",
              "      border-radius: 50%;\n",
              "      cursor: pointer;\n",
              "      display: none;\n",
              "      fill: #1967D2;\n",
              "      height: 32px;\n",
              "      padding: 0 0 0 0;\n",
              "      width: 32px;\n",
              "    }\n",
              "\n",
              "    .colab-df-convert:hover {\n",
              "      background-color: #E2EBFA;\n",
              "      box-shadow: 0px 1px 2px rgba(60, 64, 67, 0.3), 0px 1px 3px 1px rgba(60, 64, 67, 0.15);\n",
              "      fill: #174EA6;\n",
              "    }\n",
              "\n",
              "    .colab-df-buttons div {\n",
              "      margin-bottom: 4px;\n",
              "    }\n",
              "\n",
              "    [theme=dark] .colab-df-convert {\n",
              "      background-color: #3B4455;\n",
              "      fill: #D2E3FC;\n",
              "    }\n",
              "\n",
              "    [theme=dark] .colab-df-convert:hover {\n",
              "      background-color: #434B5C;\n",
              "      box-shadow: 0px 1px 3px 1px rgba(0, 0, 0, 0.15);\n",
              "      filter: drop-shadow(0px 1px 2px rgba(0, 0, 0, 0.3));\n",
              "      fill: #FFFFFF;\n",
              "    }\n",
              "  </style>\n",
              "\n",
              "    <script>\n",
              "      const buttonEl =\n",
              "        document.querySelector('#df-83e83b51-a1b0-4f55-b115-6facf452d5de button.colab-df-convert');\n",
              "      buttonEl.style.display =\n",
              "        google.colab.kernel.accessAllowed ? 'block' : 'none';\n",
              "\n",
              "      async function convertToInteractive(key) {\n",
              "        const element = document.querySelector('#df-83e83b51-a1b0-4f55-b115-6facf452d5de');\n",
              "        const dataTable =\n",
              "          await google.colab.kernel.invokeFunction('convertToInteractive',\n",
              "                                                    [key], {});\n",
              "        if (!dataTable) return;\n",
              "\n",
              "        const docLinkHtml = 'Like what you see? Visit the ' +\n",
              "          '<a target=\"_blank\" href=https://colab.research.google.com/notebooks/data_table.ipynb>data table notebook</a>'\n",
              "          + ' to learn more about interactive tables.';\n",
              "        element.innerHTML = '';\n",
              "        dataTable['output_type'] = 'display_data';\n",
              "        await google.colab.output.renderOutput(dataTable, element);\n",
              "        const docLink = document.createElement('div');\n",
              "        docLink.innerHTML = docLinkHtml;\n",
              "        element.appendChild(docLink);\n",
              "      }\n",
              "    </script>\n",
              "  </div>\n",
              "\n",
              "\n",
              "<div id=\"df-0e566f04-3b53-4027-977b-d07070049860\">\n",
              "  <button class=\"colab-df-quickchart\" onclick=\"quickchart('df-0e566f04-3b53-4027-977b-d07070049860')\"\n",
              "            title=\"Suggest charts\"\n",
              "            style=\"display:none;\">\n",
              "\n",
              "<svg xmlns=\"http://www.w3.org/2000/svg\" height=\"24px\"viewBox=\"0 0 24 24\"\n",
              "     width=\"24px\">\n",
              "    <g>\n",
              "        <path d=\"M19 3H5c-1.1 0-2 .9-2 2v14c0 1.1.9 2 2 2h14c1.1 0 2-.9 2-2V5c0-1.1-.9-2-2-2zM9 17H7v-7h2v7zm4 0h-2V7h2v10zm4 0h-2v-4h2v4z\"/>\n",
              "    </g>\n",
              "</svg>\n",
              "  </button>\n",
              "\n",
              "<style>\n",
              "  .colab-df-quickchart {\n",
              "      --bg-color: #E8F0FE;\n",
              "      --fill-color: #1967D2;\n",
              "      --hover-bg-color: #E2EBFA;\n",
              "      --hover-fill-color: #174EA6;\n",
              "      --disabled-fill-color: #AAA;\n",
              "      --disabled-bg-color: #DDD;\n",
              "  }\n",
              "\n",
              "  [theme=dark] .colab-df-quickchart {\n",
              "      --bg-color: #3B4455;\n",
              "      --fill-color: #D2E3FC;\n",
              "      --hover-bg-color: #434B5C;\n",
              "      --hover-fill-color: #FFFFFF;\n",
              "      --disabled-bg-color: #3B4455;\n",
              "      --disabled-fill-color: #666;\n",
              "  }\n",
              "\n",
              "  .colab-df-quickchart {\n",
              "    background-color: var(--bg-color);\n",
              "    border: none;\n",
              "    border-radius: 50%;\n",
              "    cursor: pointer;\n",
              "    display: none;\n",
              "    fill: var(--fill-color);\n",
              "    height: 32px;\n",
              "    padding: 0;\n",
              "    width: 32px;\n",
              "  }\n",
              "\n",
              "  .colab-df-quickchart:hover {\n",
              "    background-color: var(--hover-bg-color);\n",
              "    box-shadow: 0 1px 2px rgba(60, 64, 67, 0.3), 0 1px 3px 1px rgba(60, 64, 67, 0.15);\n",
              "    fill: var(--button-hover-fill-color);\n",
              "  }\n",
              "\n",
              "  .colab-df-quickchart-complete:disabled,\n",
              "  .colab-df-quickchart-complete:disabled:hover {\n",
              "    background-color: var(--disabled-bg-color);\n",
              "    fill: var(--disabled-fill-color);\n",
              "    box-shadow: none;\n",
              "  }\n",
              "\n",
              "  .colab-df-spinner {\n",
              "    border: 2px solid var(--fill-color);\n",
              "    border-color: transparent;\n",
              "    border-bottom-color: var(--fill-color);\n",
              "    animation:\n",
              "      spin 1s steps(1) infinite;\n",
              "  }\n",
              "\n",
              "  @keyframes spin {\n",
              "    0% {\n",
              "      border-color: transparent;\n",
              "      border-bottom-color: var(--fill-color);\n",
              "      border-left-color: var(--fill-color);\n",
              "    }\n",
              "    20% {\n",
              "      border-color: transparent;\n",
              "      border-left-color: var(--fill-color);\n",
              "      border-top-color: var(--fill-color);\n",
              "    }\n",
              "    30% {\n",
              "      border-color: transparent;\n",
              "      border-left-color: var(--fill-color);\n",
              "      border-top-color: var(--fill-color);\n",
              "      border-right-color: var(--fill-color);\n",
              "    }\n",
              "    40% {\n",
              "      border-color: transparent;\n",
              "      border-right-color: var(--fill-color);\n",
              "      border-top-color: var(--fill-color);\n",
              "    }\n",
              "    60% {\n",
              "      border-color: transparent;\n",
              "      border-right-color: var(--fill-color);\n",
              "    }\n",
              "    80% {\n",
              "      border-color: transparent;\n",
              "      border-right-color: var(--fill-color);\n",
              "      border-bottom-color: var(--fill-color);\n",
              "    }\n",
              "    90% {\n",
              "      border-color: transparent;\n",
              "      border-bottom-color: var(--fill-color);\n",
              "    }\n",
              "  }\n",
              "</style>\n",
              "\n",
              "  <script>\n",
              "    async function quickchart(key) {\n",
              "      const quickchartButtonEl =\n",
              "        document.querySelector('#' + key + ' button');\n",
              "      quickchartButtonEl.disabled = true;  // To prevent multiple clicks.\n",
              "      quickchartButtonEl.classList.add('colab-df-spinner');\n",
              "      try {\n",
              "        const charts = await google.colab.kernel.invokeFunction(\n",
              "            'suggestCharts', [key], {});\n",
              "      } catch (error) {\n",
              "        console.error('Error during call to suggestCharts:', error);\n",
              "      }\n",
              "      quickchartButtonEl.classList.remove('colab-df-spinner');\n",
              "      quickchartButtonEl.classList.add('colab-df-quickchart-complete');\n",
              "    }\n",
              "    (() => {\n",
              "      let quickchartButtonEl =\n",
              "        document.querySelector('#df-0e566f04-3b53-4027-977b-d07070049860 button');\n",
              "      quickchartButtonEl.style.display =\n",
              "        google.colab.kernel.accessAllowed ? 'block' : 'none';\n",
              "    })();\n",
              "  </script>\n",
              "</div>\n",
              "\n",
              "    </div>\n",
              "  </div>\n"
            ],
            "application/vnd.google.colaboratory.intrinsic+json": {
              "type": "dataframe",
              "variable_name": "Flights"
            }
          },
          "metadata": {},
          "execution_count": 12
        }
      ],
      "source": [
        "#Acomodar los datos por fecha\n",
        "Flights=Flights.sort_values(by=['STD'], ascending=True).reset_index()\n",
        "Flights.drop(columns=[\"index\"],inplace=True)\n",
        "Flights.head()"
      ]
    },
    {
      "cell_type": "code",
      "execution_count": 13,
      "metadata": {
        "id": "HdLN7pRdFClP"
      },
      "outputs": [],
      "source": [
        "#Expandir la fecha de llegada para crear columnas de hora, dia, mes y año\n",
        "fechasalida = Flights['STD'].str.split(\"-\",expand=True)\n",
        "fsdh=fechasalida[2].str.split(\" \",expand=True)\n",
        "fechas = Flights['STD'].str.split(\" \",expand=True)\n",
        "\n",
        "#Expandir la fecha de salida para crear columnas de hora, dia, mes y año\n",
        "fechallegada = Flights['STA'].str.split(\"-\",expand=True)\n",
        "flldh=fechallegada[2].str.split(\" \",expand=True)\n",
        "fechall = Flights['STD'].str.split(\" \",expand=True)"
      ]
    },
    {
      "cell_type": "code",
      "execution_count": 14,
      "metadata": {
        "id": "vFFnD3A4H48z"
      },
      "outputs": [],
      "source": [
        "#Se crean las columnas\n",
        "Flights['STD'] = pd.to_datetime(Flights['STD'])\n",
        "Flights['STA'] = pd.to_datetime(Flights['STA'])\n",
        "\n",
        "Flights[\"YearD\"]=Flights['STD'].dt.year\n",
        "Flights[\"MonthD\"]=Flights['STD'].dt.month\n",
        "Flights[\"DayD\"]=Flights['STD'].dt.day\n",
        "Flights[\"TimeD\"]=fsdh[1]\n",
        "Flights[\"DateD\"]=fechas[0]\n",
        "\n",
        "Flights[\"YearA\"]=fechallegada[0]\n",
        "Flights[\"MonthA\"]=fechallegada[1]\n",
        "Flights[\"DayA\"]=flldh[0]\n",
        "Flights[\"TimeA\"]=flldh[1]\n",
        "Flights[\"DateA\"]=fechas[0]\n"
      ]
    },
    {
      "cell_type": "code",
      "execution_count": 15,
      "metadata": {
        "id": "DOVVlum5H9Dh"
      },
      "outputs": [],
      "source": [
        "#Se añade una columna Duration para conocer el tiempo total de vuelo en horas\n",
        "Flights['Duration'] = Flights['STA'] - Flights['STD']\n",
        "Flights['Duration'] = round(Flights['Duration'].dt.total_seconds() / 3600, 2)"
      ]
    },
    {
      "cell_type": "code",
      "execution_count": 16,
      "metadata": {
        "id": "wNTex1MBQ0UZ"
      },
      "outputs": [],
      "source": [
        "#Se sustituyen aquellos valores de pasajeros que superen la capacidad del avion\n",
        "Flights.loc[Flights['Passengers'] > Flights['Capacity'], 'Passengers'] = Flights['Capacity']"
      ]
    },
    {
      "cell_type": "markdown",
      "metadata": {
        "id": "Gv1mh9oAV0ji"
      },
      "source": [
        "# XGB"
      ]
    },
    {
      "cell_type": "code",
      "execution_count": 17,
      "metadata": {
        "id": "55NTvXPAAKcf"
      },
      "outputs": [],
      "source": [
        "#Se eliminan columnas que no ayudan al modelo\n",
        "Flights_xgb=Flights.drop(columns=[\"Flight_ID\",\"Aeronave\",\"STD\",\"STA\",\"DateD\",\"DateA\",\"YearA\",\"MonthA\",\"DayA\",\"TimeA\",\"Bookings\"])"
      ]
    },
    {
      "cell_type": "code",
      "execution_count": 18,
      "metadata": {
        "id": "OyreIdhZMzBt"
      },
      "outputs": [],
      "source": [
        "#Se convierten las variables tipo object a category\n",
        "for column in Flights_xgb.select_dtypes(include=object).columns:\n",
        "  Flights_xgb[column]=Flights_xgb[column].astype(\"category\")"
      ]
    },
    {
      "cell_type": "code",
      "execution_count": 19,
      "metadata": {
        "id": "52Gie88iGmFe"
      },
      "outputs": [],
      "source": [
        "#Se separa la variable objetivo de los datos\n",
        "X=Flights_xgb.drop(columns=[\"Passengers\"])\n",
        "y=Flights_xgb[\"Passengers\"].astype(int)"
      ]
    },
    {
      "cell_type": "code",
      "execution_count": 20,
      "metadata": {
        "id": "I4mFS0DRBr94"
      },
      "outputs": [],
      "source": [
        "#Se dividen los datos para entrenamiento y prueba en una razon de 80%-20%\n",
        "X_train, X_test, y_train, y_test = train_test_split(X, y, test_size = 0.2,\n",
        "                                                    random_state=42)\n",
        "\n",
        "#Se crean dos matrices\n",
        "dtrain_reg = xgb.DMatrix(X_train, y_train, enable_categorical=True)\n",
        "dtest_reg = xgb.DMatrix(X_test, y_test, enable_categorical=True)"
      ]
    },
    {
      "cell_type": "code",
      "execution_count": 21,
      "metadata": {
        "colab": {
          "base_uri": "https://localhost:8080/"
        },
        "id": "iU5TclXgJMga",
        "outputId": "5d6f227d-60de-4fca-c567-9982cd3d3559"
      },
      "outputs": [
        {
          "output_type": "stream",
          "name": "stdout",
          "text": [
            "[0]\tvalidation-rmse:34.34055\ttrain-rmse:34.61412\n",
            "[100]\tvalidation-rmse:21.30829\ttrain-rmse:19.11911\n",
            "[200]\tvalidation-rmse:20.52982\ttrain-rmse:17.17741\n",
            "[300]\tvalidation-rmse:20.09956\ttrain-rmse:15.66284\n",
            "[400]\tvalidation-rmse:19.94647\ttrain-rmse:14.54715\n",
            "[500]\tvalidation-rmse:19.82627\ttrain-rmse:13.63574\n",
            "[600]\tvalidation-rmse:19.71719\ttrain-rmse:12.74847\n",
            "[700]\tvalidation-rmse:19.67609\ttrain-rmse:12.05838\n",
            "[800]\tvalidation-rmse:19.66436\ttrain-rmse:11.48755\n",
            "[900]\tvalidation-rmse:19.66156\ttrain-rmse:10.95370\n",
            "[1000]\tvalidation-rmse:19.65977\ttrain-rmse:10.48486\n"
          ]
        }
      ],
      "source": [
        "# Se definen Hiperparametros\n",
        "params = {\"objective\": \"reg:squarederror\",\n",
        "          \"eta\":0.1, \"max_depth\":9,\n",
        "          \"booster\":\"gbtree\" ,\n",
        "          \"tree_method\":\"exact\",\n",
        "          \"grow_policy\":\"lossguide\",\n",
        "          }\n",
        "\n",
        "#Se evalua el modelo y se reentrenan los datos\n",
        "evals = [(dtest_reg, \"validation\"), (dtrain_reg, \"train\")]\n",
        "\n",
        "n = 1001\n",
        "\n",
        "model = xgb.train(\n",
        "   params=params,\n",
        "   dtrain=dtrain_reg,\n",
        "   num_boost_round=n,\n",
        "   evals=evals,\n",
        "   verbose_eval=100\n",
        ")"
      ]
    },
    {
      "cell_type": "code",
      "execution_count": 22,
      "metadata": {
        "id": "OxVjeR3MX8Jm"
      },
      "outputs": [],
      "source": [
        "#Se realizan las predicciones\n",
        "preds = model.predict(dtest_reg)"
      ]
    },
    {
      "cell_type": "code",
      "execution_count": 23,
      "metadata": {
        "colab": {
          "base_uri": "https://localhost:8080/"
        },
        "id": "vSw7RSMMYCPb",
        "outputId": "f9dceaa9-e862-41d6-8579-ccb9dc3f6a21"
      },
      "outputs": [
        {
          "output_type": "stream",
          "name": "stdout",
          "text": [
            "RMSE del modelo: 19.660\n"
          ]
        }
      ],
      "source": [
        "#Se calcula el RMSE\n",
        "rmse = mean_squared_error(y_test, preds, squared=False)\n",
        "\n",
        "print(f\"RMSE del modelo: {rmse:.3f}\")\n"
      ]
    },
    {
      "cell_type": "code",
      "execution_count": 24,
      "metadata": {
        "colab": {
          "base_uri": "https://localhost:8080/"
        },
        "id": "4O-3d1d0YD5e",
        "outputId": "6f802b75-5d8b-4d97-bf60-5fe5d3722aff"
      },
      "outputs": [
        {
          "output_type": "stream",
          "name": "stdout",
          "text": [
            "R²= 70.36%\n"
          ]
        }
      ],
      "source": [
        "#Se obtiene la R²\n",
        "r2=round(100*(r2_score(y_test, preds)),2)\n",
        "print(f\"R²= {r2}%\")"
      ]
    },
    {
      "cell_type": "code",
      "execution_count": 25,
      "metadata": {
        "id": "vZAi1PuNTbGr"
      },
      "outputs": [],
      "source": [
        "#Se redondean los valores y se definen como enteros\n",
        "y_pred_xgb=round(pd.DataFrame(preds)[0]).astype(int)"
      ]
    },
    {
      "cell_type": "code",
      "execution_count": null,
      "metadata": {
        "colab": {
          "base_uri": "https://localhost:8080/",
          "height": 490
        },
        "outputId": "9760b654-fbc1-46ba-c6ed-a98947e30417",
        "id": "wGeQaceCO0VM"
      },
      "outputs": [
        {
          "output_type": "execute_result",
          "data": {
            "text/plain": [
              "Text(0, 0.5, 'Valores predichos')"
            ]
          },
          "metadata": {},
          "execution_count": 35
        },
        {
          "output_type": "display_data",
          "data": {
            "text/plain": [
              "<Figure size 640x480 with 1 Axes>"
            ],
            "image/png": "[encoded data removed]"
          },
          "metadata": {}
        }
      ],
      "source": [
        "#Grafica de dispersion de valores predichos vs reales\n",
        "plt.scatter(preds,y_test.values)\n",
        "plt.title(\"Grafica de dispersion de valores predichos vs reales\")\n",
        "plt.xlabel(\"Valores reales\")\n",
        "plt.ylabel(\"Valores predichos\")"
      ]
    }
  ],
  "metadata": {
    "colab": {
      "provenance": []
    },
    "kernelspec": {
      "display_name": "Python 3",
      "name": "python3"
    },
    "language_info": {
      "name": "python"
    }
  },
  "nbformat": 4,
  "nbformat_minor": 0
}